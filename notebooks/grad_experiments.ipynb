{
 "cells": [
  {
   "cell_type": "code",
   "execution_count": 1,
   "metadata": {},
   "outputs": [],
   "source": [
    "import torch\n",
    "import os\n",
    "import inspect\n",
    "from time import time"
   ]
  },
  {
   "cell_type": "markdown",
   "metadata": {},
   "source": [
    "# A.T @ A case"
   ]
  },
  {
   "cell_type": "markdown",
   "metadata": {},
   "source": [
    "## Simple case"
   ]
  },
  {
   "cell_type": "code",
   "execution_count": 25,
   "metadata": {},
   "outputs": [
    {
     "data": {
      "text/plain": [
       "(torch.Size([1, 10, 5]), torch.Size([1, 5, 10]))"
      ]
     },
     "execution_count": 25,
     "metadata": {},
     "output_type": "execute_result"
    }
   ],
   "source": [
    "b, m, n = 1, 10, 5 # batch size, model dim, sequence length\n",
    "A = torch.rand(b, m, n)\n",
    "A.shape, A.transpose(1, 2).shape"
   ]
  },
  {
   "cell_type": "code",
   "execution_count": 26,
   "metadata": {},
   "outputs": [],
   "source": [
    "def ATA(A):\n",
    "    return torch.bmm(A.transpose(1, 2), A)"
   ]
  },
  {
   "cell_type": "code",
   "execution_count": 27,
   "metadata": {},
   "outputs": [
    {
     "data": {
      "text/plain": [
       "torch.Size([1, 5, 5])"
      ]
     },
     "execution_count": 27,
     "metadata": {},
     "output_type": "execute_result"
    }
   ],
   "source": [
    "ATA(A).shape"
   ]
  },
  {
   "cell_type": "code",
   "execution_count": 28,
   "metadata": {},
   "outputs": [
    {
     "data": {
      "text/plain": [
       "torch.Size([1, 5, 5, 1, 10, 5])"
      ]
     },
     "execution_count": 28,
     "metadata": {},
     "output_type": "execute_result"
    }
   ],
   "source": [
    "jac = torch.autograd.functional.jacobian(ATA, A)\n",
    "jac.shape"
   ]
  },
  {
   "cell_type": "code",
   "execution_count": 29,
   "metadata": {},
   "outputs": [],
   "source": [
    "B = torch.randn(b, n, n)"
   ]
  },
  {
   "cell_type": "markdown",
   "metadata": {},
   "source": [
    "### Verifying that the three ways yield the same result"
   ]
  },
  {
   "cell_type": "code",
   "execution_count": 30,
   "metadata": {},
   "outputs": [
    {
     "data": {
      "text/plain": [
       "tensor([[[-1.9905,  0.6171, -3.3195,  0.4265, -2.5245],\n",
       "         [-4.0342,  0.1170, -3.2399, -0.5155, -2.7586],\n",
       "         [-4.3139, -0.3710, -0.0815, -2.5825,  0.4590],\n",
       "         [-7.0037, -1.0059, -4.6378, -2.9415, -2.6776],\n",
       "         [-5.5451, -1.4243, -1.9190, -2.6157, -1.0399],\n",
       "         [-4.8951, -0.5864, -1.9706, -3.1078, -0.7024],\n",
       "         [-5.9275, -1.6060, -2.1951, -2.0454, -1.1969],\n",
       "         [-5.0533, -0.2408, -0.3195, -2.9782, -0.0384],\n",
       "         [-2.8512, -0.1231, -1.2354, -0.5520, -1.0963],\n",
       "         [-3.1871, -0.8985, -1.5581, -1.2299, -0.2537]]])"
      ]
     },
     "execution_count": 30,
     "metadata": {},
     "output_type": "execute_result"
    }
   ],
   "source": [
    "torch.matmul(B.view(b*n*n), jac.view(b*n*n, b*m*n)).view(b, m, n) # Solving for the vjp by vectorizing the matrix and flattening the Jacobian, then reshaping it"
   ]
  },
  {
   "cell_type": "code",
   "execution_count": 31,
   "metadata": {},
   "outputs": [
    {
     "data": {
      "text/plain": [
       "tensor([[[-1.9905,  0.6171, -3.3195,  0.4265, -2.5245],\n",
       "         [-4.0342,  0.1170, -3.2399, -0.5155, -2.7586],\n",
       "         [-4.3139, -0.3710, -0.0815, -2.5825,  0.4590],\n",
       "         [-7.0037, -1.0059, -4.6378, -2.9415, -2.6776],\n",
       "         [-5.5451, -1.4243, -1.9190, -2.6157, -1.0399],\n",
       "         [-4.8951, -0.5864, -1.9706, -3.1078, -0.7024],\n",
       "         [-5.9275, -1.6060, -2.1951, -2.0454, -1.1969],\n",
       "         [-5.0533, -0.2408, -0.3195, -2.9782, -0.0384],\n",
       "         [-2.8512, -0.1231, -1.2354, -0.5520, -1.0963],\n",
       "         [-3.1871, -0.8985, -1.5581, -1.2299, -0.2537]]])"
      ]
     },
     "execution_count": 31,
     "metadata": {},
     "output_type": "execute_result"
    }
   ],
   "source": [
    "torch.autograd.functional.vjp(ATA, A, v=B)[1] # Solving for the vjp using torch's autograd"
   ]
  },
  {
   "cell_type": "code",
   "execution_count": 32,
   "metadata": {},
   "outputs": [
    {
     "data": {
      "text/plain": [
       "tensor([[[-1.9905,  0.6171, -3.3195,  0.4265, -2.5245],\n",
       "         [-4.0342,  0.1170, -3.2399, -0.5155, -2.7586],\n",
       "         [-4.3139, -0.3710, -0.0815, -2.5825,  0.4590],\n",
       "         [-7.0037, -1.0059, -4.6378, -2.9415, -2.6776],\n",
       "         [-5.5451, -1.4243, -1.9190, -2.6157, -1.0399],\n",
       "         [-4.8951, -0.5864, -1.9706, -3.1078, -0.7024],\n",
       "         [-5.9275, -1.6060, -2.1951, -2.0454, -1.1969],\n",
       "         [-5.0533, -0.2408, -0.3195, -2.9782, -0.0384],\n",
       "         [-2.8512, -0.1231, -1.2354, -0.5520, -1.0963],\n",
       "         [-3.1871, -0.8985, -1.5581, -1.2299, -0.2537]]])"
      ]
     },
     "execution_count": 32,
     "metadata": {},
     "output_type": "execute_result"
    }
   ],
   "source": [
    "torch.bmm(A, B + B.transpose(1,2)) # Solving for the vjp using simplified method"
   ]
  },
  {
   "cell_type": "markdown",
   "metadata": {},
   "source": [
    "## Larger case"
   ]
  },
  {
   "cell_type": "code",
   "execution_count": 110,
   "metadata": {},
   "outputs": [
    {
     "data": {
      "text/plain": [
       "(torch.Size([256, 1024, 100]), torch.Size([256, 100, 1024]))"
      ]
     },
     "execution_count": 110,
     "metadata": {},
     "output_type": "execute_result"
    }
   ],
   "source": [
    "b, m, n = 256, 1024, 100 # batch size, model dim, sequence length\n",
    "A = torch.rand(b, m, n)\n",
    "A.shape, A.transpose(1, 2).shape"
   ]
  },
  {
   "cell_type": "code",
   "execution_count": 111,
   "metadata": {},
   "outputs": [
    {
     "data": {
      "text/plain": [
       "torch.Size([256, 100, 100])"
      ]
     },
     "execution_count": 111,
     "metadata": {},
     "output_type": "execute_result"
    }
   ],
   "source": [
    "ATA(A).shape"
   ]
  },
  {
   "cell_type": "code",
   "execution_count": 112,
   "metadata": {},
   "outputs": [],
   "source": [
    "B = torch.randn(b, n, n)"
   ]
  },
  {
   "cell_type": "markdown",
   "metadata": {},
   "source": [
    "### Time comparison"
   ]
  },
  {
   "cell_type": "code",
   "execution_count": 121,
   "metadata": {},
   "outputs": [
    {
     "name": "stdout",
     "output_type": "stream",
     "text": [
      "0.14750933647155762\n"
     ]
    }
   ],
   "source": [
    "t1 = time()\n",
    "torch.autograd.functional.vjp(ATA, A, v=B)\n",
    "t2 = time()\n",
    "print(t2 - t1)"
   ]
  },
  {
   "cell_type": "code",
   "execution_count": 122,
   "metadata": {},
   "outputs": [
    {
     "name": "stdout",
     "output_type": "stream",
     "text": [
      "0.05492901802062988\n"
     ]
    }
   ],
   "source": [
    "t1 = time()\n",
    "torch.bmm(A, B + B.transpose(1,2))\n",
    "t2 = time()\n",
    "print(t2 - t1)"
   ]
  },
  {
   "cell_type": "markdown",
   "metadata": {},
   "source": [
    "Note: I couldn't solve for the Jacobian because in the larger case because my system ran out of ram and I have 32gb of ram..."
   ]
  },
  {
   "cell_type": "markdown",
   "metadata": {},
   "source": [
    "## Even larger"
   ]
  },
  {
   "cell_type": "code",
   "execution_count": 106,
   "metadata": {},
   "outputs": [
    {
     "data": {
      "text/plain": [
       "(torch.Size([512, 2048, 200]), torch.Size([512, 200, 2048]))"
      ]
     },
     "execution_count": 106,
     "metadata": {},
     "output_type": "execute_result"
    }
   ],
   "source": [
    "b, m, n = 512, 2048, 200 # batch size, model dim, sequence length\n",
    "A = torch.rand(b, m, n)\n",
    "A.shape, A.transpose(1, 2).shape"
   ]
  },
  {
   "cell_type": "code",
   "execution_count": 107,
   "metadata": {},
   "outputs": [],
   "source": [
    "B = torch.randn(b, n, n)"
   ]
  },
  {
   "cell_type": "markdown",
   "metadata": {},
   "source": [
    "### Time comparison"
   ]
  },
  {
   "cell_type": "code",
   "execution_count": 108,
   "metadata": {},
   "outputs": [
    {
     "name": "stdout",
     "output_type": "stream",
     "text": [
      "1.5000905990600586\n"
     ]
    }
   ],
   "source": [
    "t1 = time()\n",
    "torch.autograd.functional.vjp(ATA, A, v=B)\n",
    "t2 = time()\n",
    "print(t2 - t1)"
   ]
  },
  {
   "cell_type": "code",
   "execution_count": 109,
   "metadata": {},
   "outputs": [
    {
     "name": "stdout",
     "output_type": "stream",
     "text": [
      "0.43678879737854004\n"
     ]
    }
   ],
   "source": [
    "t1 = time()\n",
    "torch.bmm(A, B + B.transpose(1,2))\n",
    "t2 = time()\n",
    "print(t2 - t1)"
   ]
  },
  {
   "cell_type": "markdown",
   "metadata": {},
   "source": [
    "# General A@B"
   ]
  },
  {
   "cell_type": "markdown",
   "metadata": {},
   "source": [
    "## Simple case"
   ]
  },
  {
   "cell_type": "code",
   "execution_count": 72,
   "metadata": {},
   "outputs": [],
   "source": [
    "b, m, n, p = 1, 8, 6, 4# batch size, model dim, sequence length\n",
    "A = torch.rand(b, m, n)\n",
    "B = torch.rand(b, n, p)"
   ]
  },
  {
   "cell_type": "code",
   "execution_count": 73,
   "metadata": {},
   "outputs": [
    {
     "data": {
      "text/plain": [
       "torch.Size([1, 8, 4])"
      ]
     },
     "execution_count": 73,
     "metadata": {},
     "output_type": "execute_result"
    }
   ],
   "source": [
    "torch.bmm(A, B).shape"
   ]
  },
  {
   "cell_type": "code",
   "execution_count": 74,
   "metadata": {},
   "outputs": [
    {
     "data": {
      "text/plain": [
       "(torch.Size([1, 8, 4, 1, 8, 6]), torch.Size([1, 8, 4, 1, 6, 4]))"
      ]
     },
     "execution_count": 74,
     "metadata": {},
     "output_type": "execute_result"
    }
   ],
   "source": [
    "jac = torch.autograd.functional.jacobian(torch.bmm, (A, B))\n",
    "jac[0].shape, jac[1].shape"
   ]
  },
  {
   "cell_type": "markdown",
   "metadata": {},
   "source": [
    "With two inputs, there are two jacobian outputs: J wrt. A and J wrt. B"
   ]
  },
  {
   "cell_type": "code",
   "execution_count": 75,
   "metadata": {},
   "outputs": [],
   "source": [
    "C = torch.randn(b, m, p)"
   ]
  },
  {
   "cell_type": "code",
   "execution_count": 76,
   "metadata": {},
   "outputs": [
    {
     "data": {
      "text/plain": [
       "tensor([[[-0.6731, -0.0340, -0.1018,  0.4445, -0.6468,  0.2126],\n",
       "         [-0.7640, -0.6238, -0.8895, -0.8088, -0.6120, -1.2891],\n",
       "         [-1.3828, -2.5941, -3.3796, -1.5188, -1.0796, -2.4011],\n",
       "         [-0.7566, -1.3104, -1.9524, -0.6647, -0.5805, -0.3342],\n",
       "         [-0.0798,  0.2833,  0.4701, -0.3305, -0.0651, -0.9224],\n",
       "         [-0.0098, -0.1235,  0.0656,  0.1881, -0.0454, -0.4510],\n",
       "         [ 0.6521, -0.6137, -0.4850,  0.1626,  0.5680, -0.0510],\n",
       "         [-1.2129, -0.7720, -0.7436, -0.5206, -1.0802, -2.3379]]])"
      ]
     },
     "execution_count": 76,
     "metadata": {},
     "output_type": "execute_result"
    }
   ],
   "source": [
    "torch.matmul(C.view(b*m*p), jac[0].view(b*m*p, b*m*n)).view(b, m, n) # J wrt A"
   ]
  },
  {
   "cell_type": "markdown",
   "metadata": {},
   "source": [
    "### Verifying the results "
   ]
  },
  {
   "cell_type": "code",
   "execution_count": 77,
   "metadata": {},
   "outputs": [
    {
     "data": {
      "text/plain": [
       "tensor([[[-3.9037, -0.6041, -0.4369, -1.6985],\n",
       "         [-3.2482, -0.1006,  0.3106, -3.2911],\n",
       "         [-3.1003, -0.9423, -0.6526, -1.4464],\n",
       "         [-3.7342, -1.8974,  0.5171, -2.9065],\n",
       "         [-3.2203, -1.8391,  0.1787, -1.4652],\n",
       "         [-4.3489,  0.0344, -0.4280, -3.4612]]])"
      ]
     },
     "execution_count": 77,
     "metadata": {},
     "output_type": "execute_result"
    }
   ],
   "source": [
    "torch.matmul(C.view(b*m*p), jac[1].view(b*m*p, b*n*p)).view(b, n, p) # J wrt B"
   ]
  },
  {
   "cell_type": "code",
   "execution_count": 78,
   "metadata": {},
   "outputs": [
    {
     "data": {
      "text/plain": [
       "(tensor([[[-0.6731, -0.0340, -0.1018,  0.4445, -0.6468,  0.2126],\n",
       "          [-0.7640, -0.6238, -0.8895, -0.8088, -0.6120, -1.2891],\n",
       "          [-1.3828, -2.5941, -3.3796, -1.5188, -1.0796, -2.4011],\n",
       "          [-0.7566, -1.3104, -1.9524, -0.6647, -0.5805, -0.3342],\n",
       "          [-0.0798,  0.2833,  0.4701, -0.3305, -0.0651, -0.9224],\n",
       "          [-0.0098, -0.1235,  0.0656,  0.1881, -0.0454, -0.4510],\n",
       "          [ 0.6521, -0.6137, -0.4850,  0.1626,  0.5680, -0.0510],\n",
       "          [-1.2129, -0.7720, -0.7436, -0.5206, -1.0802, -2.3379]]]),\n",
       " tensor([[[-3.9037, -0.6041, -0.4369, -1.6985],\n",
       "          [-3.2482, -0.1006,  0.3106, -3.2911],\n",
       "          [-3.1003, -0.9423, -0.6526, -1.4464],\n",
       "          [-3.7342, -1.8974,  0.5171, -2.9065],\n",
       "          [-3.2203, -1.8391,  0.1787, -1.4652],\n",
       "          [-4.3489,  0.0344, -0.4280, -3.4612]]]))"
      ]
     },
     "execution_count": 78,
     "metadata": {},
     "output_type": "execute_result"
    }
   ],
   "source": [
    "torch.autograd.functional.vjp(torch.bmm, (A, B), v=C)[1]"
   ]
  },
  {
   "cell_type": "code",
   "execution_count": 82,
   "metadata": {},
   "outputs": [
    {
     "data": {
      "text/plain": [
       "tensor([[[-0.6731, -0.0340, -0.1018,  0.4445, -0.6468,  0.2126],\n",
       "         [-0.7640, -0.6238, -0.8895, -0.8088, -0.6120, -1.2891],\n",
       "         [-1.3828, -2.5941, -3.3796, -1.5188, -1.0796, -2.4011],\n",
       "         [-0.7566, -1.3104, -1.9524, -0.6647, -0.5805, -0.3342],\n",
       "         [-0.0798,  0.2833,  0.4701, -0.3305, -0.0651, -0.9224],\n",
       "         [-0.0098, -0.1235,  0.0656,  0.1881, -0.0454, -0.4510],\n",
       "         [ 0.6521, -0.6137, -0.4850,  0.1626,  0.5680, -0.0510],\n",
       "         [-1.2129, -0.7720, -0.7436, -0.5206, -1.0802, -2.3379]]])"
      ]
     },
     "execution_count": 82,
     "metadata": {},
     "output_type": "execute_result"
    }
   ],
   "source": [
    "torch.bmm(C, B.transpose(1, 2)) # J wrt A"
   ]
  },
  {
   "cell_type": "code",
   "execution_count": 80,
   "metadata": {},
   "outputs": [
    {
     "data": {
      "text/plain": [
       "tensor([[[-3.9037, -0.6041, -0.4369, -1.6985],\n",
       "         [-3.2482, -0.1006,  0.3106, -3.2911],\n",
       "         [-3.1003, -0.9423, -0.6526, -1.4464],\n",
       "         [-3.7342, -1.8974,  0.5171, -2.9065],\n",
       "         [-3.2203, -1.8391,  0.1787, -1.4652],\n",
       "         [-4.3489,  0.0344, -0.4280, -3.4612]]])"
      ]
     },
     "execution_count": 80,
     "metadata": {},
     "output_type": "execute_result"
    }
   ],
   "source": [
    "torch.bmm(A.transpose(1, 2), C) # J wrt B"
   ]
  },
  {
   "cell_type": "markdown",
   "metadata": {},
   "source": [
    "## Large case"
   ]
  },
  {
   "cell_type": "code",
   "execution_count": 100,
   "metadata": {},
   "outputs": [],
   "source": [
    "b, m, n, p = 512, 200, 2048, 200# batch size, model dim, sequence length\n",
    "A = torch.rand(b, m, n)\n",
    "B = torch.rand(b, n, p)"
   ]
  },
  {
   "cell_type": "code",
   "execution_count": 101,
   "metadata": {},
   "outputs": [
    {
     "data": {
      "text/plain": [
       "torch.Size([512, 200, 200])"
      ]
     },
     "execution_count": 101,
     "metadata": {},
     "output_type": "execute_result"
    }
   ],
   "source": [
    "torch.bmm(A, B).shape"
   ]
  },
  {
   "cell_type": "code",
   "execution_count": 102,
   "metadata": {},
   "outputs": [],
   "source": [
    "C = torch.randn(b, m, p)"
   ]
  },
  {
   "cell_type": "code",
   "execution_count": 103,
   "metadata": {},
   "outputs": [
    {
     "name": "stdout",
     "output_type": "stream",
     "text": [
      "1.3459370136260986\n"
     ]
    }
   ],
   "source": [
    "t1 = time()\n",
    "torch.autograd.functional.vjp(torch.bmm, (A, B), v=C)\n",
    "t2 = time()\n",
    "print(t2 - t1)"
   ]
  },
  {
   "cell_type": "code",
   "execution_count": 105,
   "metadata": {},
   "outputs": [
    {
     "name": "stdout",
     "output_type": "stream",
     "text": [
      "0.9066958427429199\n"
     ]
    }
   ],
   "source": [
    "t1 = time()\n",
    "torch.bmm(C, B.transpose(1, 2))\n",
    "torch.bmm(A.transpose(1, 2), C)\n",
    "t2 = time()\n",
    "print(t2 - t1)"
   ]
  },
  {
   "cell_type": "code",
   "execution_count": null,
   "metadata": {},
   "outputs": [],
   "source": []
  },
  {
   "cell_type": "code",
   "execution_count": null,
   "metadata": {},
   "outputs": [],
   "source": []
  },
  {
   "cell_type": "code",
   "execution_count": null,
   "metadata": {},
   "outputs": [],
   "source": []
  }
 ],
 "metadata": {
  "kernelspec": {
   "display_name": "Python 3",
   "language": "python",
   "name": "python3"
  },
  "language_info": {
   "codemirror_mode": {
    "name": "ipython",
    "version": 3
   },
   "file_extension": ".py",
   "mimetype": "text/x-python",
   "name": "python",
   "nbconvert_exporter": "python",
   "pygments_lexer": "ipython3",
   "version": "3.7.6"
  }
 },
 "nbformat": 4,
 "nbformat_minor": 4
}
